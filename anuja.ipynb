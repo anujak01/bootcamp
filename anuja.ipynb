{
 "cells": [
  {
   "cell_type": "code",
   "execution_count": 1,
   "id": "d558565a-145f-4c34-8baa-50fd984f9ede",
   "metadata": {},
   "outputs": [
    {
     "name": "stdout",
     "output_type": "stream",
     "text": [
      "Random Numbers: [81, 24, 81, 86, 12, 76, 50, 99, 69, 71]\n",
      "Even Numbers: [24, 86, 12, 76, 50]\n"
     ]
    }
   ],
   "source": [
    "import random\n",
    "\n",
    "# Generate a list of random numbers\n",
    "random_numbers = [random.randint(1, 100) for _ in range(10)]\n",
    "\n",
    "# Print the original list\n",
    "print(\"Random Numbers:\", random_numbers)\n",
    "\n",
    "# Print only even numbers\n",
    "even_numbers = [num for num in random_numbers if num % 2 == 0]\n",
    "print(\"Even Numbers:\", even_numbers)\n"
   ]
  },
  {
   "cell_type": "code",
   "execution_count": 2,
   "id": "535e8499-e44e-44c8-b7dc-6c80710a3d5f",
   "metadata": {},
   "outputs": [
    {
     "name": "stdout",
     "output_type": "stream",
     "text": [
      "Reversed String: .ecnetnes elpmaxe na si siht ,olleH\n",
      "Reversed Words: sentence. example an is this Hello,\n"
     ]
    }
   ],
   "source": [
    "# Create a string\n",
    "original_string = \"Hello, this is an example sentence.\"\n",
    "\n",
    "# Reverse the entire string\n",
    "reversed_string = original_string[::-1]\n",
    "print(\"Reversed String:\", reversed_string)\n",
    "\n",
    "# Reverse the words in the string\n",
    "words = original_string.split()\n",
    "reversed_words = \" \".join(words[::-1])\n",
    "print(\"Reversed Words:\", reversed_words)\n"
   ]
  },
  {
   "cell_type": "code",
   "execution_count": null,
   "id": "92d9e283-0d49-47f8-b38f-e88e5550b883",
   "metadata": {},
   "outputs": [],
   "source": []
  }
 ],
 "metadata": {
  "kernelspec": {
   "display_name": "Python 3 (ipykernel)",
   "language": "python",
   "name": "python3"
  },
  "language_info": {
   "codemirror_mode": {
    "name": "ipython",
    "version": 3
   },
   "file_extension": ".py",
   "mimetype": "text/x-python",
   "name": "python",
   "nbconvert_exporter": "python",
   "pygments_lexer": "ipython3",
   "version": "3.12.7"
  }
 },
 "nbformat": 4,
 "nbformat_minor": 5
}
